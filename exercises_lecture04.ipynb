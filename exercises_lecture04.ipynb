{
 "cells": [
  {
   "cell_type": "markdown",
   "metadata": {},
   "source": [
    "First cell is just code I imported from my solution of the previous exercises, which loads and creates the dataset for the MLP."
   ]
  },
  {
   "cell_type": "code",
   "execution_count": 1,
   "metadata": {},
   "outputs": [
    {
     "name": "stdout",
     "output_type": "stream",
     "text": [
      ".... --> c\n",
      "...c --> a\n",
      "..ca --> e\n",
      ".cae --> l\n",
      "cael --> i\n",
      "aeli --> .\n",
      ".... --> z\n",
      "...z --> a\n",
      "..za --> y\n",
      ".zay --> i\n"
     ]
    }
   ],
   "source": [
    "import random \n",
    "import string\n",
    "import torch\n",
    "import torch.nn as nn\n",
    "import matplotlib.pyplot as plt\n",
    "import torch.nn.functional as F\n",
    "from tqdm import tqdm\n",
    "\n",
    "chars = sorted(set(string.ascii_lowercase))\n",
    "stoi = {ch: i+1 for i, ch in enumerate(chars)}\n",
    "stoi['.'] = 0\n",
    "itos = {i: ch for ch, i in stoi.items()}\n",
    "\n",
    "with open('names.txt', 'r') as f:\n",
    "    names = f.read().splitlines()\n",
    "\n",
    "random.shuffle(names)\n",
    "n_train = int(0.8*len(names))\n",
    "n_dev = int(0.9*len(names))\n",
    "trainset = names[:n_train]\n",
    "devset = names[n_train:n_dev]\n",
    "testset = names[n_dev:]\n",
    "len(trainset), len(devset), len(devset)\n",
    "\n",
    "def prepare_data(names, cl):\n",
    "    xs = []\n",
    "    ys = []\n",
    "    for name in names:\n",
    "        name = name + '.'\n",
    "        context = [stoi['.']]*cl\n",
    "        for ch in name:\n",
    "            ix = stoi[ch]\n",
    "            xs.append(context)\n",
    "            ys.append(ix)\n",
    "            context = context[1:] + [ix]\n",
    "    return torch.tensor(xs), torch.tensor(ys)\n",
    "\n",
    "def print_context(X, y):\n",
    "    for context, label in zip(X,y):\n",
    "        con_str = ''.join(itos[ix.item()] for ix in context)\n",
    "        print(f'{con_str} --> {itos[label.item()]}')\n",
    "\n",
    "context_length = 4\n",
    "X_train, y_train = prepare_data(trainset, context_length)\n",
    "X_dev, y_dev = prepare_data(devset, context_length)\n",
    "X_test, y_test = prepare_data(testset, context_length)\n",
    "print_context(X_train[:10], y_train[:10])"
   ]
  },
  {
   "cell_type": "code",
   "execution_count": 75,
   "metadata": {},
   "outputs": [],
   "source": [
    "g = torch.Generator().manual_seed(42)\n",
    "\n",
    "class Linear:\n",
    "  \n",
    "  def __init__(self, fan_in, fan_out, bias=True):\n",
    "    self.weight = torch.randn((fan_in, fan_out), generator=g) / fan_in**0.5\n",
    "    self.bias = torch.zeros(fan_out) if bias else None\n",
    "  \n",
    "  def __call__(self, x):\n",
    "    self.out = x @ self.weight\n",
    "    if self.bias is not None:\n",
    "      self.out += self.bias\n",
    "    return self.out\n",
    "  \n",
    "  def parameters(self):\n",
    "    return [self.weight] + ([] if self.bias is None else [self.bias])\n",
    "\n",
    "\n",
    "class BatchNorm1d:\n",
    "  \n",
    "  def __init__(self, dim, eps=1e-5, momentum=0.1):\n",
    "    self.eps = eps\n",
    "    self.momentum = momentum\n",
    "    self.training = True\n",
    "    # parameters (trained with backprop)\n",
    "    self.gamma = torch.ones(dim)\n",
    "    self.beta = torch.zeros(dim)\n",
    "    # buffers (trained with a running 'momentum update')\n",
    "    self.running_mean = torch.zeros(dim)\n",
    "    self.running_var = torch.ones(dim)\n",
    "  \n",
    "  def __call__(self, x):\n",
    "    # calculate the forward pass\n",
    "    if self.training:\n",
    "      xmean = x.mean(0, keepdim=True) # batch mean\n",
    "      xvar = x.var(0, keepdim=True) # batch variance\n",
    "    else:\n",
    "      xmean = self.running_mean\n",
    "      xvar = self.running_var\n",
    "    xhat = (x - xmean) / torch.sqrt(xvar + self.eps) # normalize to unit variance\n",
    "    self.out = self.gamma * xhat + self.beta\n",
    "    # update the buffers\n",
    "    if self.training:\n",
    "      with torch.no_grad():\n",
    "        self.running_mean = (1 - self.momentum) * self.running_mean + self.momentum * xmean\n",
    "        self.running_var = (1 - self.momentum) * self.running_var + self.momentum * xvar\n",
    "    return self.out\n",
    "  \n",
    "  def parameters(self):\n",
    "    return [self.gamma, self.beta]\n",
    "\n",
    "class Tanh:\n",
    "  def __call__(self, x):\n",
    "    self.out = torch.tanh(x)\n",
    "    return self.out\n",
    "  def parameters(self):\n",
    "    return []"
   ]
  },
  {
   "cell_type": "markdown",
   "metadata": {},
   "source": [
    "## Initialize Weights and Biases with Zero"
   ]
  },
  {
   "cell_type": "code",
   "execution_count": 33,
   "metadata": {},
   "outputs": [
    {
     "name": "stdout",
     "output_type": "stream",
     "text": [
      "37397\n"
     ]
    }
   ],
   "source": [
    "\n",
    "vocab_size = len(stoi)\n",
    "emb_size = 10\n",
    "n_hidden = 100\n",
    "C = torch.randn((vocab_size, emb_size), requires_grad=True)\n",
    "layers = [Linear(context_length*emb_size, n_hidden), Tanh(),\n",
    "          Linear(n_hidden, n_hidden), Tanh(),\n",
    "          Linear(n_hidden, n_hidden), Tanh(),\n",
    "          Linear(n_hidden, n_hidden), Tanh(),\n",
    "          Linear(n_hidden, vocab_size)]\n",
    "\n",
    "with torch.no_grad():\n",
    "    #layers[-1].gamma *= 0.1 #decrease confidence before softmax to improve initial loss\n",
    "    #layers[-1].weight *= 0.1\n",
    "    #layers[-1].bias *= 0.1\n",
    "    for layer in layers:\n",
    "        if isinstance(layer, Linear):\n",
    "            #layer.weight *= 5/3 # apply gain due to squishing of tanh\n",
    "            layer.weight *= 0\n",
    "            layer.bias *= 0\n",
    "\n",
    "parameters = [C]\n",
    "for layer in layers:\n",
    "    for p in layer.parameters():\n",
    "        parameters.append(p)\n",
    "        p.requires_grad = True\n",
    "print(sum(p.numel() for p in parameters))"
   ]
  },
  {
   "cell_type": "code",
   "execution_count": 46,
   "metadata": {},
   "outputs": [
    {
     "name": "stdout",
     "output_type": "stream",
     "text": [
      "      0/ 100000: 2.9255\n",
      "  10000/ 100000: 2.8040\n",
      "  20000/ 100000: 2.8569\n",
      "  30000/ 100000: 2.8903\n",
      "  40000/ 100000: 2.8335\n",
      "  50000/ 100000: 2.8809\n",
      "  60000/ 100000: 2.8329\n",
      "  70000/ 100000: 2.7204\n",
      "  80000/ 100000: 2.8652\n",
      "  90000/ 100000: 2.9339\n"
     ]
    }
   ],
   "source": [
    "train_steps = 100_000\n",
    "lr = 0.1\n",
    "batch_size = 64\n",
    "\n",
    "for steps in range(train_steps):\n",
    "    # ---forward pass---\n",
    "    ixs = torch.randint(low=0, high=len(X_train), size=(batch_size,))\n",
    "    x = C[X_train[ixs]].view(batch_size, emb_size*context_length)\n",
    "    for layer in layers:\n",
    "        x = layer(x)\n",
    "    loss = F.cross_entropy(x, y_train[ixs])\n",
    "\n",
    "    # ---backward pass---\n",
    "    for layer in layers:\n",
    "        layer.out.retain_grad()\n",
    "\n",
    "    for p in parameters:\n",
    "        p.grad = None\n",
    "\n",
    "    loss.backward()\n",
    "\n",
    "    if steps % 10_000 == 0:\n",
    "        print(f'{steps:7d}/{train_steps:7d}: {loss.item():.4f}')\n",
    "\n",
    "    for p in parameters:\n",
    "        p.data += -lr * p.grad"
   ]
  },
  {
   "cell_type": "code",
   "execution_count": 47,
   "metadata": {},
   "outputs": [
    {
     "name": "stdout",
     "output_type": "stream",
     "text": [
      "Non-zero Weights\n",
      "Layer 8, Linear, torch.Size([64, 27])\n",
      "Non-zero Gradients\n",
      "Layer 8, Linear, torch.Size([64, 27])\n"
     ]
    }
   ],
   "source": [
    "print(\"Non-zero Weights\")\n",
    "for i, layer in enumerate(layers):\n",
    "    if torch.count_nonzero(layer.out) > 0:\n",
    "        print(f'Layer {i}, {layer.__class__.__name__}, {layer.out.shape}')\n",
    "\n",
    "print(\"Non-zero Gradients\")\n",
    "for i, layer in enumerate(layers):\n",
    "    if torch.count_nonzero(layer.out.grad) > 0:\n",
    "        print(f'Layer {i}, {layer.__class__.__name__}, {layer.out.shape}')"
   ]
  },
  {
   "cell_type": "markdown",
   "metadata": {},
   "source": [
    "Just the last Layer is learning, this is due to the softmax, which maps the all zero outputs of the last layer to a uniform distribution, for which the loss is then calculated and backpropagated. All the previous layers don't learn anything."
   ]
  },
  {
   "cell_type": "markdown",
   "metadata": {},
   "source": [
    "## Folding BatchNorms"
   ]
  },
  {
   "cell_type": "code",
   "execution_count": 76,
   "metadata": {},
   "outputs": [
    {
     "name": "stdout",
     "output_type": "stream",
     "text": [
      "17424\n"
     ]
    }
   ],
   "source": [
    "C = torch.randn((vocab_size, emb_size), requires_grad=True)\n",
    "layers = [Linear(context_length*emb_size, n_hidden, bias=False), BatchNorm1d(n_hidden), Tanh(),\n",
    "          Linear(n_hidden, n_hidden, bias=False), BatchNorm1d(n_hidden), Tanh(),\n",
    "          Linear(n_hidden, vocab_size, bias=False), BatchNorm1d(vocab_size)]\n",
    "\n",
    "with torch.no_grad():\n",
    "    layers[-1].gamma *= 0.1 #decrease confidence before softmax to improve initial loss\n",
    "    for layer in layers:\n",
    "        if isinstance(layer, Linear):\n",
    "            layer.weight *= 5/3 # apply gain due to squishing of tanh\n",
    "\n",
    "parameters = [C]\n",
    "for layer in layers:\n",
    "    for p in layer.parameters():\n",
    "        parameters.append(p)\n",
    "        p.requires_grad = True\n",
    "print(sum(p.numel() for p in parameters))"
   ]
  },
  {
   "cell_type": "code",
   "execution_count": 77,
   "metadata": {},
   "outputs": [
    {
     "name": "stdout",
     "output_type": "stream",
     "text": [
      "      0/ 100000: 3.3212\n",
      "  10000/ 100000: 1.9722\n",
      "  20000/ 100000: 2.1599\n",
      "  30000/ 100000: 1.7938\n",
      "  40000/ 100000: 1.6946\n",
      "  50000/ 100000: 1.9471\n",
      "  60000/ 100000: 2.1108\n",
      "  70000/ 100000: 1.8634\n",
      "  80000/ 100000: 1.9576\n",
      "  90000/ 100000: 1.8849\n"
     ]
    }
   ],
   "source": [
    "train_steps = 100_000\n",
    "lr = 0.1\n",
    "batch_size = 64\n",
    "\n",
    "for steps in range(train_steps):\n",
    "    # ---forward pass---\n",
    "    ixs = torch.randint(low=0, high=len(X_train), size=(batch_size,))\n",
    "    x = C[X_train[ixs]].view(batch_size, emb_size*context_length)\n",
    "    for layer in layers:\n",
    "        x = layer(x)\n",
    "    loss = F.cross_entropy(x, y_train[ixs])\n",
    "\n",
    "    # ---backward pass---\n",
    "    for layer in layers:\n",
    "        layer.out.retain_grad()\n",
    "\n",
    "    for p in parameters:\n",
    "        p.grad = None\n",
    "\n",
    "    loss.backward()\n",
    "\n",
    "    if steps % 10_000 == 0:\n",
    "        print(f'{steps:7d}/{train_steps:7d}: {loss.item():.4f}')\n",
    "\n",
    "    for p in parameters:\n",
    "        p.data += -lr * p.grad"
   ]
  },
  {
   "cell_type": "code",
   "execution_count": 78,
   "metadata": {},
   "outputs": [
    {
     "data": {
      "text/plain": [
       "2.0743706226348877"
      ]
     },
     "execution_count": 78,
     "metadata": {},
     "output_type": "execute_result"
    }
   ],
   "source": [
    "@torch.no_grad()\n",
    "def regular_inference(X, y, layers):\n",
    "    x = C[X].view(X.shape[0], -1)\n",
    "    for layer in layers:\n",
    "        if isinstance(layer, BatchNorm1d):\n",
    "            layer.training = False\n",
    "        x = layer(x)\n",
    "    return F.cross_entropy(x, y).item()\n",
    "\n",
    "regular_inference(X_dev, y_dev, layers)"
   ]
  },
  {
   "cell_type": "code",
   "execution_count": 82,
   "metadata": {},
   "outputs": [
    {
     "data": {
      "text/plain": [
       "2.0743706226348877"
      ]
     },
     "execution_count": 82,
     "metadata": {},
     "output_type": "execute_result"
    }
   ],
   "source": [
    "# create new model without batchnorms\n",
    "new_layers = [Linear(context_length*emb_size, n_hidden), Tanh(),\n",
    "          Linear(n_hidden, n_hidden), Tanh(),\n",
    "          Linear(n_hidden, vocab_size)]\n",
    "\n",
    "i=0\n",
    "for layer in new_layers:\n",
    "    if isinstance(layer, Linear):\n",
    "        old_lin = layers[i*3]\n",
    "        bn = layers[i*3+1]\n",
    "        what = bn.gamma/torch.sqrt(bn.eps+bn.running_var)\n",
    "        bhat = (-bn.running_mean)/torch.sqrt(bn.eps+bn.running_var)\n",
    "        layer.weight = old_lin.weight * what\n",
    "        layer.bias = bn.gamma * bhat + bn.beta\n",
    "        i+=1\n",
    "\n",
    "regular_inference(X_dev, y_dev, new_layers)"
   ]
  }
 ],
 "metadata": {
  "kernelspec": {
   "display_name": "general",
   "language": "python",
   "name": "python3"
  },
  "language_info": {
   "codemirror_mode": {
    "name": "ipython",
    "version": 3
   },
   "file_extension": ".py",
   "mimetype": "text/x-python",
   "name": "python",
   "nbconvert_exporter": "python",
   "pygments_lexer": "ipython3",
   "version": "3.11.2"
  },
  "orig_nbformat": 4
 },
 "nbformat": 4,
 "nbformat_minor": 2
}

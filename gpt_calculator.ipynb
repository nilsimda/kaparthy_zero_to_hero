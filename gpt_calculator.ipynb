{
 "cells": [
  {
   "cell_type": "code",
   "execution_count": 1,
   "metadata": {},
   "outputs": [],
   "source": [
    "import itertools\n",
    "import torch\n",
    "import torch.nn as nn\n",
    "import torch.nn.functional as F\n",
    "\n",
    "emb_dim = 32\n",
    "max_digits = 6 # maximum number of digits in the two numbers we are adding\n",
    "context_length = 2*max_digits + max_digits+1 + 2 # number1 + number2 = number3 (which can have max_digits+1)\n",
    "batch_size = 32\n",
    "\n",
    "class MultiHeadAttention(nn.Module):\n",
    "    def __init__(self, n_heads, masked=True):\n",
    "        super().__init__()\n",
    "        self.n_heads = n_heads\n",
    "        self.masked = masked\n",
    "        self.q = nn.Linear(emb_dim, emb_dim, bias=False) #compute for all heads in parrallel, n_heads * head_size = emb_dim\n",
    "        self.k = nn.Linear(emb_dim, emb_dim, bias=False)\n",
    "        self.v = nn.Linear(emb_dim, emb_dim, bias=False)\n",
    "        self.proj = nn.Linear(emb_dim, emb_dim)\n",
    "        if self.masked:\n",
    "            self.register_buffer('tril', torch.tril(torch.ones(context_length, context_length)))\n",
    "\n",
    "    def forward(self, x):\n",
    "        B, T, C = x.shape\n",
    "        Q, K, V = self.q(x), self.k(x), self.v(x)\n",
    "        Q = Q.view(B, T, self.n_heads, C//self.n_heads).transpose(1,2) #self attention needs to be done individually for each head\n",
    "        K = K.view(B, T, self.n_heads, C//self.n_heads).transpose(1,2) #transpose needed so we do self attention in the given char context not between the different heads\n",
    "        V = V.view(B, T, self.n_heads, C//self.n_heads).transpose(1,2)\n",
    "        wei = Q @ K.transpose(-1, -2)\n",
    "        if self.masked:\n",
    "            wei = wei.masked_fill(self.tril[:T, :T] == 0, float('-inf'))\n",
    "        wei = wei / C**-0.5\n",
    "        out = F.softmax(wei, dim=-1) @ V\n",
    "        out = out.transpose(1,2).contiguous().view(B, T, C)\n",
    "        return self.proj(out)\n",
    "\n",
    "class FeedForward(nn.Module):\n",
    "    def __init__(self):\n",
    "        super().__init__()\n",
    "        self.ff = nn.Sequential(\n",
    "        nn.Linear(emb_dim, 4*emb_dim), nn.ReLU(),\n",
    "        nn.Linear(4*emb_dim, emb_dim)\n",
    "        )\n",
    "\n",
    "    def forward(self, x):\n",
    "        return self.ff(x)\n",
    "\n",
    "class TransformerBlock(nn.Module):\n",
    "    def __init__(self, n_head):\n",
    "        super().__init__()\n",
    "        self.mha = MultiHeadAttention(n_head)\n",
    "        self.ln1 = nn.LayerNorm(emb_dim)\n",
    "        self.ff = FeedForward()\n",
    "        self.ln2 = nn.LayerNorm(emb_dim)\n",
    "\n",
    "    def forward(self, x):\n",
    "        x = x + self.mha(self.ln1(x))\n",
    "        out = x + self.ff(self.ln2(x))\n",
    "        return out\n"
   ]
  },
  {
   "cell_type": "code",
   "execution_count": 2,
   "metadata": {},
   "outputs": [],
   "source": [
    "class GPT(nn.Module):\n",
    "    def __init__(self, vocab_size, n_heads=4, n_blocks=2): \n",
    "        super().__init__()\n",
    "        self.token_embedding = nn.Embedding(vocab_size, emb_dim)\n",
    "        self.position_embedding = nn.Embedding(context_length, emb_dim)\n",
    "        self.blocks = nn.Sequential(*[TransformerBlock(n_heads) for _ in range(n_blocks)])\n",
    "        self.lm_head = nn.Linear(emb_dim, vocab_size)\n",
    "\n",
    "    def forward(self, idx, targets=None):\n",
    "        B, T = idx.shape\n",
    "        token_embs = self.token_embedding(idx) # B, T -> B, T, C\n",
    "        pos_embs = self.position_embedding(torch.arange(T))\n",
    "        out = token_embs + pos_embs\n",
    "        out = self.blocks(out)\n",
    "        logits = self.lm_head(out)\n",
    "\n",
    "        if targets is None:\n",
    "            loss = None\n",
    "        else:\n",
    "            B, T, C = logits.shape\n",
    "            logits = logits.view(B*T, C)\n",
    "            targets = targets.view(B*T)\n",
    "            loss = F.cross_entropy(logits, targets)\n",
    "\n",
    "        return logits, loss\n",
    "\n",
    "    def calculate(self, idx, max_tokens=100):\n",
    "        for _ in range(max_tokens): # just to make sure we dont run into infinite loop if model fails to end its output\n",
    "            context = idx[:, -context_length:]\n",
    "            logits, _ = self(context)\n",
    "            logits = logits[:, -1, :]\n",
    "            probs = torch.softmax(logits, dim=-1)\n",
    "            next_token = torch.argmax(probs, keepdim=True) # use argmax instead of multinomial, there is only one correct answer\n",
    "            idx = torch.cat((idx, next_token), dim=1)\n",
    "            if next_token == 15:\n",
    "                break\n",
    "        return idx"
   ]
  },
  {
   "cell_type": "code",
   "execution_count": 3,
   "metadata": {},
   "outputs": [
    {
     "name": "stdout",
     "output_type": "stream",
     "text": [
      "torch.Size([1000000, 21]) torch.Size([1000000, 21])\n"
     ]
    }
   ],
   "source": [
    "optoi = {'+': 10, '-':11, '*':12, '/': 13, '=': 14, '<END>':15}\n",
    "itoop = {i: op for op, i in optoi.items()}\n",
    "\n",
    "# we sample two random numbers as input and their sum as the label\n",
    "def sample_mathproblems(num_problems): \n",
    "    operation = '+' #TODO: Expand to all four basic operations\n",
    "\n",
    "    # sample input data\n",
    "    first_nums = torch.randint(0, 9, (num_problems, max_digits), dtype=torch.long)\n",
    "    sum_symbols = torch.ones((num_problems,1), dtype=torch.long) * optoi[operation]\n",
    "    second_nums = torch.randint(0, 9, (num_problems, max_digits), dtype=torch.long)\n",
    "    equals_symbols = torch.ones((num_problems,1), dtype=torch.long) * optoi['=']\n",
    "    x = torch.cat((first_nums, sum_symbols, second_nums, equals_symbols), dim=1)\n",
    "\n",
    "    # sample output data\n",
    "    masked_labels = -100 * torch.ones(num_problems, x.shape[1]-1, dtype=torch.long) # mask loss for first n inputs (-100 gets ignored by pytorch)\n",
    "    first_nums = torch.tensor([int(''.join(map(str, num.tolist()))) for num in first_nums])\n",
    "    second_nums = torch.tensor([int(''.join(map(str, num.tolist()))) for num in second_nums])\n",
    "\n",
    "    if operation == '+':\n",
    "        results = first_nums + second_nums\n",
    "    labels = [[int(digit) for digit in reversed(str(result.item()))] for result in results]\n",
    "    labels = torch.tensor(list(zip(*itertools.zip_longest(*labels, fillvalue=0))), dtype=torch.long)\n",
    "    end_tokens = torch.ones((num_problems, 1), dtype=torch.long) * optoi['<END>']\n",
    "    x = torch.cat((x, labels), dim=1)\n",
    "    y = torch.cat((masked_labels, labels, end_tokens), dim=1)\n",
    "    \n",
    "    return x, y\n",
    "\n",
    "n_samples = 1_000_000\n",
    "x, y = sample_mathproblems(n_samples)\n",
    "print(x.shape, y.shape)"
   ]
  },
  {
   "cell_type": "code",
   "execution_count": 4,
   "metadata": {},
   "outputs": [
    {
     "data": {
      "text/plain": [
       "(torch.Size([800000, 21]),\n",
       " torch.Size([800000, 21]),\n",
       " torch.Size([100000, 21]),\n",
       " torch.Size([100000, 21]),\n",
       " torch.Size([100000, 21]),\n",
       " torch.Size([100000, 21]))"
      ]
     },
     "execution_count": 4,
     "metadata": {},
     "output_type": "execute_result"
    }
   ],
   "source": [
    "train_size = int(0.8 * n_samples)\n",
    "val_size = int(0.9 * n_samples)\n",
    "x_train, y_train = x[:train_size], y[:train_size]\n",
    "x_val, y_val = x[train_size:val_size], y[train_size:val_size]\n",
    "x_test, y_test = x[val_size:], y[val_size:]\n",
    "x_train.shape, y_train.shape, x_val.shape, y_val.shape, x_test.shape, y_test.shape"
   ]
  },
  {
   "cell_type": "code",
   "execution_count": 5,
   "metadata": {},
   "outputs": [],
   "source": [
    "@torch.no_grad()\n",
    "def estimate_loss(model, eval_iters):\n",
    "    out = {}\n",
    "    model.eval()\n",
    "    for split in ['train', 'val']:\n",
    "        losses = torch.zeros(eval_iters)\n",
    "        for k in range(eval_iters):\n",
    "            if split == 'train':\n",
    "                idx = torch.randint(0, len(x_train), (batch_size, ))\n",
    "                X, Y = x_train[idx], y_train[idx]\n",
    "            elif split == 'val':\n",
    "                idx = torch.randint(0, len(x_val), (batch_size, ))\n",
    "                X, Y = x_val[idx], y_val[idx]\n",
    "            _, loss = model(X, Y)\n",
    "            losses[k] = loss.item()\n",
    "        out[split] = losses.mean()\n",
    "    model.train()\n",
    "    return out\n",
    "\n",
    "def train_gpt(model, optimizer, train_steps=100_000, eval_iters=200):\n",
    "    for step in range(train_steps):\n",
    "        # forward pass\n",
    "        idx = torch.randint(0, len(x_train), (batch_size,))\n",
    "        x, y = x_train[idx], y_train[idx]\n",
    "        _, loss = model(x, y)\n",
    "\n",
    "        # backward pass\n",
    "        optimizer.zero_grad(set_to_none=True)\n",
    "        loss.backward()\n",
    "        optimizer.step()\n",
    "\n",
    "        if step % 10_000 == 0:\n",
    "            losses = estimate_loss(model, eval_iters) \n",
    "            train_loss = losses['train']\n",
    "            val_loss = losses['val']\n",
    "            print(f\"{step}/{train_steps} - Train Loss: {train_loss:.4f}, Val Loss: {val_loss:.4f}\")"
   ]
  },
  {
   "cell_type": "code",
   "execution_count": 9,
   "metadata": {},
   "outputs": [
    {
     "name": "stdout",
     "output_type": "stream",
     "text": [
      "0/40000 - Train Loss: 3.1023, Val Loss: 3.0984\n",
      "10000/40000 - Train Loss: 0.0022, Val Loss: 0.0023\n",
      "20000/40000 - Train Loss: 0.0005, Val Loss: 0.0005\n",
      "30000/40000 - Train Loss: 0.0001, Val Loss: 0.0001\n"
     ]
    }
   ],
   "source": [
    "model = GPT(16)\n",
    "optimizer = torch.optim.AdamW(model.parameters(), lr=1e-3)\n",
    "\n",
    "train_gpt(model, optimizer, train_steps=40_000)"
   ]
  },
  {
   "cell_type": "code",
   "execution_count": 12,
   "metadata": {},
   "outputs": [
    {
     "name": "stdout",
     "output_type": "stream",
     "text": [
      "201014 + 185545 = 386559, predicted result is 386559\n",
      "780634 + 852367 = 1633001, predicted result is 1633001\n",
      "228510 + 372265 = 600775, predicted result is 600775\n",
      "258532 + 150206 = 408738, predicted result is 408738\n",
      "837800 + 761450 = 1599250, predicted result is 1599250\n",
      "274460 + 427124 = 701584, predicted result is 701584\n",
      "006353 + 720134 = 726487, predicted result is 726487\n",
      "418111 + 670353 = 1088464, predicted result is 1088464\n",
      "055536 + 682646 = 738182, predicted result is 738182\n",
      "034806 + 447431 = 482237, predicted result is 482237\n"
     ]
    }
   ],
   "source": [
    "def decode(x):\n",
    "    x = x[0]\n",
    "    assert x[-1].item() == optoi['<END>'], \"Model did not end calculation with <END> token, result is wrong.\"\n",
    "    num1 = ''.join(map(str, x[:max_digits].tolist()))\n",
    "    op = itoop[x[max_digits].item()]\n",
    "    num2 = ''.join(map(str, x[max_digits+1:2*max_digits+1].tolist()))\n",
    "    equals = itoop[x[2*max_digits+1].item()]\n",
    "    pred_res = ''.join(map(str, reversed(x[2*max_digits+2:-1].tolist())))\n",
    "    pred_res = pred_res.lstrip('0')\n",
    "    real_res = int(num1) + int(num2)\n",
    "    return \" \".join([num1, op, num2, equals, str(real_res)]), pred_res\n",
    "\n",
    "for example in x_test[:10]:\n",
    "    decoded_str, pred_res = decode(model.calculate(example[:14].view(1, -1)))\n",
    "    print(f\"{decoded_str}, predicted result is {pred_res}\")"
   ]
  }
 ],
 "metadata": {
  "kernelspec": {
   "display_name": "general",
   "language": "python",
   "name": "python3"
  },
  "language_info": {
   "codemirror_mode": {
    "name": "ipython",
    "version": 3
   },
   "file_extension": ".py",
   "mimetype": "text/x-python",
   "name": "python",
   "nbconvert_exporter": "python",
   "pygments_lexer": "ipython3",
   "version": "3.11.2"
  },
  "orig_nbformat": 4
 },
 "nbformat": 4,
 "nbformat_minor": 2
}

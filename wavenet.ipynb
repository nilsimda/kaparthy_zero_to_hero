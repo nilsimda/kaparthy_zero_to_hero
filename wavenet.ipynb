{
 "cells": [
  {
   "cell_type": "code",
   "execution_count": 41,
   "metadata": {},
   "outputs": [],
   "source": [
    "import random \n",
    "import string\n",
    "import torch\n",
    "import torch.nn as nn\n",
    "import torch.nn.functional as F\n",
    "import matplotlib.pyplot as plt"
   ]
  },
  {
   "cell_type": "code",
   "execution_count": 9,
   "metadata": {},
   "outputs": [
    {
     "data": {
      "text/plain": [
       "(25626, 3203, 3203)"
      ]
     },
     "execution_count": 9,
     "metadata": {},
     "output_type": "execute_result"
    }
   ],
   "source": [
    "chars = sorted(set(string.ascii_lowercase))\n",
    "stoi = {ch: i+1 for i, ch in enumerate(chars)}\n",
    "stoi['.'] = 0\n",
    "itos = {i: ch for ch, i in stoi.items()}\n",
    "\n",
    "with open('names.txt', 'r') as f:\n",
    "    names = f.read().splitlines()\n",
    "\n",
    "random.shuffle(names)\n",
    "n_train = int(0.8*len(names))\n",
    "n_dev = int(0.9*len(names))\n",
    "trainset = names[:n_train]\n",
    "devset = names[n_train:n_dev]\n",
    "testset = names[n_dev:]\n",
    "len(trainset), len(devset), len(devset)"
   ]
  },
  {
   "cell_type": "code",
   "execution_count": 11,
   "metadata": {},
   "outputs": [
    {
     "name": "stdout",
     "output_type": "stream",
     "text": [
      "........ --> k\n",
      ".......k --> a\n",
      "......ka --> e\n",
      ".....kae --> n\n",
      "....kaen --> e\n",
      "...kaene --> n\n",
      "..kaenen --> .\n",
      "........ --> g\n",
      ".......g --> a\n",
      "......ga --> b\n"
     ]
    }
   ],
   "source": [
    "def prepare_data(names, cl):\n",
    "    xs, ys = [], []\n",
    "    for name in names:\n",
    "        name = name + '.'\n",
    "        context = [stoi['.']]*cl\n",
    "        for ch in name:\n",
    "            ix = stoi[ch]\n",
    "            xs.append(context)\n",
    "            ys.append(ix)\n",
    "            context = context[1:] + [ix]\n",
    "    return torch.tensor(xs), torch.tensor(ys)\n",
    "\n",
    "def print_context(X, y):\n",
    "    for context, label in zip(X,y):\n",
    "        con_str = ''.join(itos[ix.item()] for ix in context)\n",
    "        print(f'{con_str} --> {itos[label.item()]}')\n",
    "\n",
    "context_length = 8\n",
    "X_train, y_train = prepare_data(trainset, context_length)\n",
    "X_dev, y_dev = prepare_data(devset, context_length)\n",
    "X_test, y_test = prepare_data(testset, context_length)\n",
    "print_context(X_train[:10], y_train[:10])"
   ]
  },
  {
   "cell_type": "code",
   "execution_count": 16,
   "metadata": {},
   "outputs": [
    {
     "data": {
      "text/plain": [
       "torch.Size([4, 8, 10])"
      ]
     },
     "execution_count": 16,
     "metadata": {},
     "output_type": "execute_result"
    }
   ],
   "source": [
    "C = torch.randn(27, 10)\n",
    "C[X_train[:4]].shape"
   ]
  },
  {
   "cell_type": "code",
   "execution_count": 61,
   "metadata": {},
   "outputs": [],
   "source": [
    "class FlattenConsecutive(nn.Module):\n",
    "    def __init__(self, n_consecutive=2):\n",
    "        super().__init__()\n",
    "        self.n_consecutive = n_consecutive\n",
    "    def __call__(self, x):\n",
    "        B, T, C = x.shape\n",
    "        x = x.reshape(B, T//self.n_consecutive, self.n_consecutive*C)\n",
    "        if x.shape[1] == 1:\n",
    "            x = x.squeeze(1)\n",
    "        return x\n",
    "\n",
    "class BatchNorm1d_Permuted(nn.Module):\n",
    "    def __init__(self, num_features):\n",
    "        super().__init__()\n",
    "        self.bn = nn.BatchNorm1d(num_features)\n",
    "\n",
    "    def __call__(self, x):\n",
    "        return self.bn(x.permute((0, 2, 1))).permute((0, 2, 1))\n",
    "\n",
    "class WaveNet(nn.Module):\n",
    "    def __init__(self, vocab_size=27, emb_size=24, n_cons=2, n_hidden=128):\n",
    "        super().__init__()\n",
    " \n",
    "        self.model = nn.Sequential(\n",
    "        nn.Embedding(vocab_size, emb_size),\n",
    "        FlattenConsecutive(2), nn.Linear(emb_size * 2, n_hidden, bias=False), BatchNorm1d_Permuted(n_hidden), nn.Tanh(),\n",
    "        FlattenConsecutive(2), nn.Linear(n_hidden*2, n_hidden, bias=False), BatchNorm1d_Permuted(n_hidden), nn.Tanh(),\n",
    "        FlattenConsecutive(2), nn.Linear(n_hidden*2, n_hidden, bias=False), nn.BatchNorm1d(n_hidden), nn.Tanh(),\n",
    "        nn.Linear(n_hidden, vocab_size))\n",
    "\n",
    "    def forward(self, x):\n",
    "        return self.model(x)\n",
    "\n",
    "model = WaveNet()"
   ]
  },
  {
   "cell_type": "code",
   "execution_count": 62,
   "metadata": {},
   "outputs": [
    {
     "name": "stdout",
     "output_type": "stream",
     "text": [
      "0/200000: 3.4613\n",
      "10000/200000: 2.1610\n",
      "20000/200000: 2.1271\n",
      "30000/200000: 1.8731\n",
      "40000/200000: 2.2915\n",
      "50000/200000: 2.0150\n",
      "60000/200000: 2.0912\n",
      "70000/200000: 1.9807\n",
      "80000/200000: 1.9607\n",
      "90000/200000: 1.7640\n",
      "100000/200000: 2.0211\n",
      "110000/200000: 1.7941\n",
      "120000/200000: 1.4960\n",
      "130000/200000: 2.0588\n",
      "140000/200000: 1.2981\n",
      "150000/200000: 1.8395\n",
      "160000/200000: 1.5707\n",
      "170000/200000: 1.7431\n",
      "180000/200000: 1.7261\n",
      "190000/200000: 1.2949\n"
     ]
    }
   ],
   "source": [
    "max_steps = 200_000\n",
    "batch_size = 32\n",
    "lr = 0.1\n",
    "\n",
    "lossi = []\n",
    "\n",
    "for i in range(max_steps):\n",
    "    # forward \n",
    "    ixs = torch.randint(low=0, high=len(X_train), size=(batch_size,))\n",
    "    Xb, yb = X_train[ixs], y_train[ixs]\n",
    "    logits = model(Xb)\n",
    "    loss = F.cross_entropy(logits, yb)\n",
    "\n",
    "    # backward\n",
    "    loss.backward()\n",
    "    lr = 0.1 if i < 100_000 else 0.01 # lr decay\n",
    "\n",
    "    for p in model.parameters():\n",
    "        p.data += -lr * p.grad\n",
    "        p.grad = None\n",
    "\n",
    "    if i % 10_000 == 0:\n",
    "        print(f\"{i}/{max_steps}: {loss.item():.4f}\")\n",
    "\n",
    "    lossi.append(loss.log10().item())\n"
   ]
  },
  {
   "cell_type": "code",
   "execution_count": 63,
   "metadata": {},
   "outputs": [
    {
     "data": {
      "image/png": "[encoded data removed]",
      "text/plain": [
       "<Figure size 640x480 with 1 Axes>"
      ]
     },
     "metadata": {},
     "output_type": "display_data"
    }
   ],
   "source": [
    "plt.plot(torch.tensor(lossi).view(-1, 1000).mean(1));"
   ]
  },
  {
   "cell_type": "code",
   "execution_count": 64,
   "metadata": {},
   "outputs": [
    {
     "name": "stdout",
     "output_type": "stream",
     "text": [
      "train 1.7852420806884766\n",
      "val 1.9804631471633911\n"
     ]
    }
   ],
   "source": [
    "# evaluate the loss\n",
    "@torch.no_grad() # this decorator disables gradient tracking inside pytorch\n",
    "def split_loss(split):\n",
    "  x,y = {\n",
    "    'train': (X_train, y_train),\n",
    "    'val': (X_dev, y_dev),\n",
    "    'test': (X_test, y_test),\n",
    "  }[split]\n",
    "  logits = model(x)\n",
    "  loss = F.cross_entropy(logits, y)\n",
    "  print(split, loss.item())\n",
    "\n",
    "split_loss('train')\n",
    "split_loss('val')"
   ]
  }
 ],
 "metadata": {
  "kernelspec": {
   "display_name": "general",
   "language": "python",
   "name": "python3"
  },
  "language_info": {
   "codemirror_mode": {
    "name": "ipython",
    "version": 3
   },
   "file_extension": ".py",
   "mimetype": "text/x-python",
   "name": "python",
   "nbconvert_exporter": "python",
   "pygments_lexer": "ipython3",
   "version": "3.11.2"
  },
  "orig_nbformat": 4
 },
 "nbformat": 4,
 "nbformat_minor": 2
}

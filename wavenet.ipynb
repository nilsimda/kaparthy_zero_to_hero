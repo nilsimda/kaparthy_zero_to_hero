{
 "cells": [
  {
   "cell_type": "markdown",
   "metadata": {},
   "source": [
    "Imports"
   ]
  },
  {
   "cell_type": "code",
   "execution_count": 1,
   "metadata": {},
   "outputs": [],
   "source": [
    "import random \n",
    "import string\n",
    "import torch\n",
    "import torch.nn as nn\n",
    "import torch.nn.functional as F\n",
    "import matplotlib.pyplot as plt"
   ]
  },
  {
   "cell_type": "markdown",
   "metadata": {},
   "source": [
    "Load Dataset"
   ]
  },
  {
   "cell_type": "code",
   "execution_count": 2,
   "metadata": {},
   "outputs": [
    {
     "data": {
      "text/plain": [
       "(25626, 3203, 3203)"
      ]
     },
     "execution_count": 2,
     "metadata": {},
     "output_type": "execute_result"
    }
   ],
   "source": [
    "chars = sorted(set(string.ascii_lowercase))\n",
    "stoi = {ch: i+1 for i, ch in enumerate(chars)}\n",
    "stoi['.'] = 0\n",
    "itos = {i: ch for ch, i in stoi.items()}\n",
    "\n",
    "with open('names.txt', 'r') as f:\n",
    "    names = f.read().splitlines()\n",
    "\n",
    "random.shuffle(names)\n",
    "n_train = int(0.8*len(names))\n",
    "n_dev = int(0.9*len(names))\n",
    "trainset = names[:n_train]\n",
    "devset = names[n_train:n_dev]\n",
    "testset = names[n_dev:]\n",
    "len(trainset), len(devset), len(devset)"
   ]
  },
  {
   "cell_type": "code",
   "execution_count": 3,
   "metadata": {},
   "outputs": [
    {
     "name": "stdout",
     "output_type": "stream",
     "text": [
      "........ --> k\n",
      ".......k --> a\n",
      "......ka --> r\n",
      ".....kar --> l\n",
      "....karl --> i\n",
      "...karli --> n\n",
      "..karlin --> .\n",
      "........ --> m\n",
      ".......m --> i\n",
      "......mi --> c\n"
     ]
    }
   ],
   "source": [
    "def prepare_data(names, cl):\n",
    "    xs, ys = [], []\n",
    "    for name in names:\n",
    "        name = name + '.'\n",
    "        context = [stoi['.']]*cl\n",
    "        for ch in name:\n",
    "            ix = stoi[ch]\n",
    "            xs.append(context)\n",
    "            ys.append(ix)\n",
    "            context = context[1:] + [ix]\n",
    "    return torch.tensor(xs), torch.tensor(ys)\n",
    "\n",
    "def print_context(X, y):\n",
    "    for context, label in zip(X,y):\n",
    "        con_str = ''.join(itos[ix.item()] for ix in context)\n",
    "        print(f'{con_str} --> {itos[label.item()]}')\n",
    "\n",
    "context_length = 8\n",
    "X_train, y_train = prepare_data(trainset, context_length)\n",
    "X_dev, y_dev = prepare_data(devset, context_length)\n",
    "X_test, y_test = prepare_data(testset, context_length)\n",
    "print_context(X_train[:10], y_train[:10])"
   ]
  },
  {
   "cell_type": "code",
   "execution_count": 4,
   "metadata": {},
   "outputs": [
    {
     "data": {
      "text/plain": [
       "torch.Size([4, 8, 10])"
      ]
     },
     "execution_count": 4,
     "metadata": {},
     "output_type": "execute_result"
    }
   ],
   "source": [
    "C = torch.randn(27, 10)\n",
    "C[X_train[:4]].shape"
   ]
  },
  {
   "cell_type": "markdown",
   "metadata": {},
   "source": [
    "I implemented the Wavenet from the Lecture both with Dense Layers and 1D Convolutions (Cross-Correlations) in Pytorch."
   ]
  },
  {
   "cell_type": "code",
   "execution_count": 35,
   "metadata": {},
   "outputs": [],
   "source": [
    "class FlattenConsecutive(nn.Module):\n",
    "    def __init__(self, n_consecutive=2):\n",
    "        super().__init__()\n",
    "        self.n_consecutive = n_consecutive\n",
    "    def __call__(self, x):\n",
    "        B, T, C = x.shape\n",
    "        x = x.reshape(B, T//self.n_consecutive, self.n_consecutive*C)\n",
    "        if x.shape[1] == 1:\n",
    "            x = x.squeeze(1)\n",
    "        return x\n",
    "\n",
    "class BatchNorm1d_Permuted(nn.Module):\n",
    "    def __init__(self, num_features):\n",
    "        super().__init__()\n",
    "        self.bn = nn.BatchNorm1d(num_features)\n",
    "\n",
    "    def __call__(self, x):\n",
    "        return self.bn(x.permute((0, 2, 1))).permute((0, 2, 1))\n",
    "\n",
    "class WaveNetDense(nn.Module):\n",
    "    def __init__(self, vocab_size=27, emb_size=24, n_cons=2, n_hidden=128):\n",
    "        super().__init__()\n",
    " \n",
    "        self.model = nn.Sequential(\n",
    "        nn.Embedding(vocab_size, emb_size),\n",
    "        FlattenConsecutive(n_cons), nn.Linear(emb_size*n_cons, n_hidden, bias=False), BatchNorm1d_Permuted(n_hidden), nn.ReLU(),\n",
    "        FlattenConsecutive(n_cons), nn.Linear(n_hidden*n_cons, n_hidden, bias=False), BatchNorm1d_Permuted(n_hidden), nn.ReLU(),\n",
    "        FlattenConsecutive(n_cons), nn.Linear(n_hidden*n_cons, n_hidden, bias=False), nn.BatchNorm1d(n_hidden), nn.ReLU(),\n",
    "        nn.Linear(n_hidden, vocab_size))\n",
    "\n",
    "    def forward(self, x):\n",
    "        return self.model(x)\n",
    "\n",
    "class WaveNetConv(nn.Module):\n",
    "    def __init__(self, vocab_size=27, emb_size=24, n_cons=2, channels=128):\n",
    "        super().__init__()\n",
    "        self.embedding = nn.Embedding(vocab_size, emb_size)\n",
    "        self.layer1 = nn.Sequential(nn.Conv1d(emb_size, channels, 2, stride=2, bias=False), nn.BatchNorm1d(channels), nn.Tanh())\n",
    "        self.layer2 = nn.Sequential(nn.Conv1d(channels, channels, 2, stride=2, bias=False), nn.BatchNorm1d(channels), nn.Tanh())\n",
    "        self.layer3 = nn.Sequential(nn.Conv1d(channels, channels, 2, stride=2, bias=False), nn.BatchNorm1d(channels), nn.Tanh())\n",
    "        self.out_layer = nn.Linear(channels, vocab_size)\n",
    "\n",
    "    def forward(self, x):\n",
    "        embs = self.embedding(x).transpose(1,2)\n",
    "        z = self.layer1(embs)\n",
    "        z = self.layer2(z)\n",
    "        z = self.layer3(z).squeeze()\n",
    "        return self.out_layer(z)\n",
    "\n",
    "wavenet_conv = WaveNetConv()\n",
    "\n",
    "wavenet_dense = WaveNetDense()"
   ]
  },
  {
   "cell_type": "code",
   "execution_count": 36,
   "metadata": {},
   "outputs": [
    {
     "name": "stdout",
     "output_type": "stream",
     "text": [
      "0/200000: 3.2853\n",
      "10000/200000: 1.9111\n",
      "20000/200000: 2.3738\n",
      "30000/200000: 2.0414\n",
      "40000/200000: 2.2684\n",
      "50000/200000: 1.8384\n",
      "60000/200000: 1.5813\n",
      "70000/200000: 1.8896\n",
      "80000/200000: 2.0633\n",
      "90000/200000: 1.5987\n",
      "100000/200000: 2.1694\n",
      "110000/200000: 1.5566\n",
      "120000/200000: 1.9177\n",
      "130000/200000: 1.7804\n",
      "140000/200000: 1.8898\n",
      "150000/200000: 1.9157\n",
      "160000/200000: 2.1189\n",
      "170000/200000: 2.0738\n",
      "180000/200000: 1.2539\n",
      "190000/200000: 2.3081\n",
      "0/200000: 3.4489\n",
      "10000/200000: 2.1366\n",
      "20000/200000: 1.8629\n",
      "30000/200000: 2.1145\n",
      "40000/200000: 1.6931\n",
      "50000/200000: 1.8872\n",
      "60000/200000: 2.0542\n",
      "70000/200000: 2.5242\n",
      "80000/200000: 2.1541\n",
      "90000/200000: 1.8942\n",
      "100000/200000: 1.9927\n",
      "110000/200000: 1.8703\n",
      "120000/200000: 1.7763\n",
      "130000/200000: 2.0194\n",
      "140000/200000: 1.9057\n",
      "150000/200000: 1.6324\n",
      "160000/200000: 2.0033\n",
      "170000/200000: 2.0597\n",
      "180000/200000: 1.4782\n",
      "190000/200000: 2.0125\n"
     ]
    }
   ],
   "source": [
    "def train_model(model, max_steps=200_000, batch_size=32, lr=0.1):\n",
    "    lossi = []\n",
    "\n",
    "    for i in range(max_steps):\n",
    "        # forward \n",
    "        ixs = torch.randint(low=0, high=len(X_train), size=(batch_size,))\n",
    "        Xb, yb = X_train[ixs], y_train[ixs]\n",
    "        logits = model(Xb)\n",
    "        loss = F.cross_entropy(logits, yb)\n",
    "\n",
    "        # backward\n",
    "        loss.backward()\n",
    "        lr = 0.1 if i < 100_000 else 0.01 # lr decay\n",
    "\n",
    "        for p in model.parameters():\n",
    "            p.data += -lr * p.grad\n",
    "            p.grad = None\n",
    "\n",
    "        if i % 10_000 == 0:\n",
    "            print(f\"{i}/{max_steps}: {loss.item():.4f}\")\n",
    "\n",
    "        lossi.append(loss.log10().item())\n",
    "    return lossi\n",
    "\n",
    "lossi_conv = train_model(wavenet_conv)\n",
    "lossi_dense = train_model(wavenet_dense)"
   ]
  },
  {
   "cell_type": "code",
   "execution_count": 38,
   "metadata": {},
   "outputs": [
    {
     "data": {
      "image/png": "[encoded data removed]",
      "text/plain": [
       "<Figure size 640x480 with 1 Axes>"
      ]
     },
     "metadata": {},
     "output_type": "display_data"
    }
   ],
   "source": [
    "plt.plot(torch.tensor(lossi_dense).view(-1, 1000).mean(1), label=\"Linear Layers\")\n",
    "plt.plot(torch.tensor(lossi_conv).view(-1, 1000).mean(1), label=\"Convolutional Layers\")\n",
    "plt.legend();"
   ]
  },
  {
   "cell_type": "code",
   "execution_count": 39,
   "metadata": {},
   "outputs": [
    {
     "name": "stdout",
     "output_type": "stream",
     "text": [
      "----Result with Linear Layers----\n",
      "train 1.7714321613311768\n",
      "val 1.9791423082351685\n",
      "----Result with Convolutions----\n",
      "train 1.7861332893371582\n",
      "val 1.977806806564331\n"
     ]
    }
   ],
   "source": [
    "# evaluate the loss\n",
    "@torch.no_grad() # this decorator disables gradient tracking inside pytorch\n",
    "def split_loss(model, split):\n",
    "  x,y = {\n",
    "    'train': (X_train, y_train),\n",
    "    'val': (X_dev, y_dev),\n",
    "    'test': (X_test, y_test),\n",
    "  }[split]\n",
    "  logits = model(x)\n",
    "  loss = F.cross_entropy(logits, y)\n",
    "  print(split, loss.item())\n",
    "\n",
    "print(\"----Result with Linear Layers----\")\n",
    "split_loss(wavenet_dense, 'train')\n",
    "split_loss(wavenet_dense, 'val')\n",
    "print(\"----Result with Convolutions----\")\n",
    "split_loss(wavenet_conv, 'train')\n",
    "split_loss(wavenet_conv, 'val')"
   ]
  }
 ],
 "metadata": {
  "kernelspec": {
   "display_name": "general",
   "language": "python",
   "name": "python3"
  },
  "language_info": {
   "codemirror_mode": {
    "name": "ipython",
    "version": 3
   },
   "file_extension": ".py",
   "mimetype": "text/x-python",
   "name": "python",
   "nbconvert_exporter": "python",
   "pygments_lexer": "ipython3",
   "version": "3.11.2"
  },
  "orig_nbformat": 4
 },
 "nbformat": 4,
 "nbformat_minor": 2
}

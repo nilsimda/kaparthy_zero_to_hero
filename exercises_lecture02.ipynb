{
 "cells": [
  {
   "cell_type": "markdown",
   "metadata": {},
   "source": [
    "## Create Dataset"
   ]
  },
  {
   "cell_type": "code",
   "execution_count": 1,
   "metadata": {},
   "outputs": [
    {
     "data": {
      "text/plain": [
       "(25627, 3203, 3203)"
      ]
     },
     "execution_count": 1,
     "metadata": {},
     "output_type": "execute_result"
    }
   ],
   "source": [
    "import math\n",
    "\n",
    "with open('names.txt') as f:\n",
    "    names = [name.rstrip('\\n') for name in f]\n",
    "\n",
    "n_train = math.floor(0.8 * len(names)) + 1\n",
    "n_dev = math.floor(0.9 * len(names)) + 1\n",
    "trainset = names[:n_train]\n",
    "devset = names[n_train:n_dev]\n",
    "testset = names[n_dev:]\n",
    "\n",
    "len(trainset), len(devset), len(testset)"
   ]
  },
  {
   "cell_type": "markdown",
   "metadata": {},
   "source": [
    "## Count Based Trigram Language Model\n",
    "\n",
    "In addition to the lecture I added another Special token in the beginning of the names, so we can start sampling, as in a trigram we use two chars to predict the next."
   ]
  },
  {
   "cell_type": "code",
   "execution_count": 2,
   "metadata": {},
   "outputs": [
    {
     "data": {
      "text/plain": [
       "tensor([  0, 177, 129,  19, 325,  42,  20,  11,  76, 136,  22,  59, 539, 346,\n",
       "        552,   7,  12,   5, 380, 153,  63, 132, 212,   4,  13, 143, 124,   0],\n",
       "       dtype=torch.int32)"
      ]
     },
     "execution_count": 2,
     "metadata": {},
     "output_type": "execute_result"
    }
   ],
   "source": [
    "import torch\n",
    "import string\n",
    "\n",
    "chars = sorted(set(string.ascii_lowercase))\n",
    "stoi = {ch: i+1 for i, ch in enumerate(chars)}\n",
    "stoi['.'] = 0\n",
    "itos = {i: ch for ch, i in stoi.items()}\n",
    "\n",
    "trigram_counts = torch.zeros((28, 28, 28), dtype=torch.int32)\n",
    "\n",
    "for name in trainset:\n",
    "    chs = ['.', '.'] + list(name) + ['.']\n",
    "    for ch1, ch2, ch3 in zip(chs, chs[1:], chs[2:]):\n",
    "        trigram_counts[stoi[ch1], stoi[ch2], stoi[ch3]] += 1\n",
    "\n",
    "trigram_counts[0, 1] # counts of first characters"
   ]
  },
  {
   "cell_type": "markdown",
   "metadata": {},
   "source": [
    "I can now calculate the probabilites and apply model smoothing. We use the devset to find a good smoothing value."
   ]
  },
  {
   "cell_type": "code",
   "execution_count": 3,
   "metadata": {},
   "outputs": [
    {
     "name": "stdout",
     "output_type": "stream",
     "text": [
      "Mininum at: 0.321052610874176\n"
     ]
    },
    {
     "data": {
      "image/png": "[encoded data removed]",
      "text/plain": [
       "<Figure size 640x480 with 1 Axes>"
      ]
     },
     "metadata": {},
     "output_type": "display_data"
    }
   ],
   "source": [
    "import matplotlib.pyplot as plt\n",
    "\n",
    "def eval_trigram(names, model):\n",
    "    ll, n = 0.0, 0\n",
    "    for name in names:\n",
    "        chs = ['.', '.'] + list(name) + ['.']\n",
    "        for ch1, ch2, ch3 in zip(chs, chs[1:], chs[2:]):\n",
    "            prob = model[stoi[ch1], stoi[ch2], stoi[ch3]]\n",
    "            log_prob = torch.log(prob)\n",
    "            if log_prob > 1000000:\n",
    "                print(prob, log_prob)\n",
    "            ll += log_prob\n",
    "            n +=1\n",
    "    return (-ll/n).item()\n",
    "\n",
    "\n",
    "nlls = [] # nlls for different smoothing values\n",
    "smoth_vals = torch.linspace(0.1, 1.5, 20)\n",
    "for i in smoth_vals:\n",
    "    trigram_probs = (trigram_counts + i).float()\n",
    "    trigram_probs /= trigram_probs.sum(dim=-1, keepdim=True)\n",
    "    nll = eval_trigram(devset, trigram_probs)\n",
    "    nlls.append(nll)\n",
    "\n",
    "plt.plot(smoth_vals, nlls)\n",
    "print(f\"Mininum at: {smoth_vals[torch.tensor(nlls).argmin()]}\")"
   ]
  },
  {
   "cell_type": "markdown",
   "metadata": {},
   "source": [
    "From now on we use this smoothing value. Lets see if we can beat the bigram model from the lecture on the training set."
   ]
  },
  {
   "cell_type": "code",
   "execution_count": 4,
   "metadata": {},
   "outputs": [
    {
     "data": {
      "text/plain": [
       "2.1571707725524902"
      ]
     },
     "execution_count": 4,
     "metadata": {},
     "output_type": "execute_result"
    }
   ],
   "source": [
    "smoothing = 0.32\n",
    "trigram_probs = (trigram_counts + smoothing).float()\n",
    "trigram_probs /= trigram_probs.sum(dim=-1, keepdim=True)\n",
    "\n",
    "eval_trigram(trainset, trigram_probs)"
   ]
  },
  {
   "cell_type": "markdown",
   "metadata": {},
   "source": [
    "Yes even with only 80 percent of the data, the model fits better than the bigram which had a NLL of roughly 2.4. Time to evaluate on the Test set."
   ]
  },
  {
   "cell_type": "code",
   "execution_count": 5,
   "metadata": {},
   "outputs": [
    {
     "data": {
      "text/plain": [
       "2.4325671195983887"
      ]
     },
     "execution_count": 5,
     "metadata": {},
     "output_type": "execute_result"
    }
   ],
   "source": [
    "eval_trigram(testset, trigram_probs)"
   ]
  },
  {
   "cell_type": "markdown",
   "metadata": {},
   "source": [
    "Lets also sample some names from this model!"
   ]
  },
  {
   "cell_type": "code",
   "execution_count": 6,
   "metadata": {},
   "outputs": [
    {
     "name": "stdout",
     "output_type": "stream",
     "text": [
      "aisha\n",
      "solaina\n",
      "vaada\n",
      "da\n",
      "jayashene\n",
      "alyn\n",
      "brei\n",
      "kene\n",
      "va\n",
      "farlee\n"
     ]
    }
   ],
   "source": [
    "g = torch.Generator().manual_seed(42)\n",
    "n_samples = 10\n",
    "for i in range(n_samples):\n",
    "    ix1 = 0\n",
    "    ix2 = 0\n",
    "    while True:\n",
    "        p = trigram_probs[ix1, ix2]\n",
    "        ix1 = ix2\n",
    "        ix2 = torch.multinomial(p, 1, generator=g).item()\n",
    "        if ix2 == 0:\n",
    "            break\n",
    "        print(itos[ix2], end='')\n",
    "    print()\n"
   ]
  },
  {
   "cell_type": "markdown",
   "metadata": {},
   "source": [
    "## Neural Net Trigram Language Model\n",
    "\n",
    "We first create or dataset, using all possible bigrams. Since we will simply index into the weight matrix we dont need one hot encoding."
   ]
  },
  {
   "cell_type": "code",
   "execution_count": 46,
   "metadata": {},
   "outputs": [
    {
     "data": {
      "text/plain": [
       "torch.Size([182784])"
      ]
     },
     "execution_count": 46,
     "metadata": {},
     "output_type": "execute_result"
    }
   ],
   "source": [
    "from itertools import product\n",
    "\n",
    "chars.append('.')\n",
    "all_bigrams = set(product(chars, chars))\n",
    "btoi = {b: i for i, b in enumerate(all_bigrams)}\n",
    "\n",
    "def prepare_dataset(names):\n",
    "    xs, ys = [],[],\n",
    "    for name in names:\n",
    "        chs = ['.', '.'] + list(name.rstrip('\\n')) + ['.']\n",
    "        for ch1, ch2, ch3 in zip(chs, chs[1:], chs[2:]):\n",
    "            xs.append(btoi[(ch1, ch2)])\n",
    "            ys.append(stoi[ch3])\n",
    "\n",
    "    xs = torch.tensor(xs)\n",
    "    ys = torch.tensor(ys)\n",
    "\n",
    "    return xs, ys\n",
    "\n",
    "x_train, y_train = prepare_dataset(trainset)\n",
    "x_dev, y_dev = prepare_dataset(devset)\n",
    "x_test, y_test = prepare_dataset(testset)\n",
    "x_train.shape"
   ]
  },
  {
   "cell_type": "markdown",
   "metadata": {},
   "source": [
    "Lets train the a nn with as single layer repeatedly with different regularization weights, in order to find a good weight. I also use cross_entropy loss as it fuses the softmax, so we can apply it directly to the logits."
   ]
  },
  {
   "cell_type": "code",
   "execution_count": 53,
   "metadata": {},
   "outputs": [
    {
     "name": "stderr",
     "output_type": "stream",
     "text": [
      "100%|██████████| 20/20 [00:46<00:00,  2.33s/it]"
     ]
    },
    {
     "name": "stdout",
     "output_type": "stream",
     "text": [
      "Mininum at: 0.36315789818763733\n"
     ]
    },
    {
     "name": "stderr",
     "output_type": "stream",
     "text": [
      "\n"
     ]
    },
    {
     "data": {
      "image/png": "[encoded data removed]",
      "text/plain": [
       "<Figure size 640x480 with 1 Axes>"
      ]
     },
     "metadata": {},
     "output_type": "display_data"
    }
   ],
   "source": [
    "from tqdm import tqdm\n",
    "import torch.nn.functional as F\n",
    "\n",
    "g = torch.Generator().manual_seed(42)\n",
    "\n",
    "def eval_nn(xs, ys):\n",
    "    with torch.no_grad():\n",
    "        logits = W[xs]\n",
    "        loss = F.cross_entropy(logits, ys)\n",
    "    return loss.item()\n",
    "\n",
    "def train_step(xs, ys, reg_w):\n",
    "    # ---- forward pass ----\n",
    "    logits = W[xs]\n",
    "    nll = F.cross_entropy(logits, ys)\n",
    "    reg = reg_w * (W**2).mean()\n",
    "\n",
    "    loss = nll + reg\n",
    "\n",
    "    # ---- backward pass -----\n",
    "    W.grad = None\n",
    "    loss.backward()\n",
    "    W.data += -30 * W.grad\n",
    "\n",
    "    return loss\n",
    "\n",
    "reg_ws = torch.linspace(5e-2, 0.4, 20)\n",
    "dev_losses = []\n",
    "for reg_w in tqdm(reg_ws): \n",
    "    epochs = 100\n",
    "    W = torch.randn((27*27, 27), generator=g, requires_grad=True)\n",
    "\n",
    "    for _ in range(epochs):\n",
    "        train_step(x_train, y_train, reg_w)\n",
    "\n",
    "    nll_dev = eval_nn(x_dev, y_dev)\n",
    "    dev_losses.append(nll_dev)\n",
    "\n",
    "plt.plot(reg_ws, dev_losses)\n",
    "print(f\"Mininum at: {reg_ws[torch.tensor(dev_losses).argmin()]}\")"
   ]
  },
  {
   "cell_type": "markdown",
   "metadata": {},
   "source": [
    "Lets use this 0.36 as the regularization weight and train the model longer and see what we can get on the testset."
   ]
  },
  {
   "cell_type": "code",
   "execution_count": 56,
   "metadata": {},
   "outputs": [
    {
     "name": "stderr",
     "output_type": "stream",
     "text": [
      "2.3702046871185303: 100%|██████████| 10000/10000 [03:52<00:00, 43.00it/s]\n"
     ]
    },
    {
     "data": {
      "text/plain": [
       "2.480421304702759"
      ]
     },
     "execution_count": 56,
     "metadata": {},
     "output_type": "execute_result"
    }
   ],
   "source": [
    "W = torch.randn((27*27, 27), generator=g, requires_grad=True)\n",
    "\n",
    "epochs = 10_000\n",
    "for _ in (pbar := tqdm(range(epochs))):\n",
    "    loss = train_step(x_train, y_train, 0.36)\n",
    "    pbar.set_description(f\"{loss.item()}\")\n",
    "\n",
    "dev_loss = eval_nn(x_dev, y_dev)\n",
    "dev_loss"
   ]
  },
  {
   "cell_type": "code",
   "execution_count": 57,
   "metadata": {},
   "outputs": [
    {
     "data": {
      "text/plain": [
       "2.4961392879486084"
      ]
     },
     "execution_count": 57,
     "metadata": {},
     "output_type": "execute_result"
    }
   ],
   "source": [
    "test_loss = eval_nn(x_test, y_test)\n",
    "test_loss"
   ]
  },
  {
   "cell_type": "markdown",
   "metadata": {},
   "source": [
    "Lets now sample from the model. But instead of using one-hot encoding I used indexing of the weight tensor."
   ]
  },
  {
   "cell_type": "code",
   "execution_count": 58,
   "metadata": {},
   "outputs": [
    {
     "name": "stdout",
     "output_type": "stream",
     "text": [
      "briya\n",
      "ton\n",
      "shmbelegigh\n",
      "ya\n",
      "lia\n",
      "kaydy\n",
      "kenn\n",
      "mvsma\n",
      "sit\n",
      "dleigh\n"
     ]
    }
   ],
   "source": [
    "kg = torch.Generator().manual_seed(42)\n",
    "n_samples = 10\n",
    "for _ in range(n_samples):\n",
    "    ix1 = 0\n",
    "    ix2 = 0\n",
    "    while True:\n",
    "        w_row = btoi[(itos[ix1], itos[ix2])]\n",
    "        with torch.no_grad():\n",
    "            logits = W[w_row]\n",
    "            counts = logits.exp()\n",
    "            probs = counts / counts.sum(dim=-1, keepdim=True) \n",
    "        ix1 = ix2\n",
    "        ix2 = torch.multinomial(probs, 1, generator=g).item()\n",
    "        if ix2 == 0:\n",
    "            break\n",
    "        print(itos[ix2], end='')\n",
    "    print()"
   ]
  }
 ],
 "metadata": {
  "kernelspec": {
   "display_name": "general",
   "language": "python",
   "name": "python3"
  },
  "language_info": {
   "codemirror_mode": {
    "name": "ipython",
    "version": 3
   },
   "file_extension": ".py",
   "mimetype": "text/x-python",
   "name": "python",
   "nbconvert_exporter": "python",
   "pygments_lexer": "ipython3",
   "version": "3.11.2"
  },
  "orig_nbformat": 4
 },
 "nbformat": 4,
 "nbformat_minor": 2
}
